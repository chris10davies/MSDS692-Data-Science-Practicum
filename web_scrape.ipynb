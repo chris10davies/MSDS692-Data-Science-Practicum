{
 "cells": [
  {
   "cell_type": "code",
   "execution_count": null,
   "metadata": {},
   "outputs": [],
   "source": [
    "# Import packages\n",
    "import re\n",
    "from urllib.request import urlopen, Request\n",
    "from bs4 import BeautifulSoup\n",
    "from time import sleep\n",
    "import pandas as pd"
   ]
  },
  {
   "cell_type": "code",
   "execution_count": null,
   "metadata": {},
   "outputs": [],
   "source": [
    "# Web-scraping code and parser\n",
    "\n",
    "# Code Source: \n",
    "# https://gist.github.com/bbass444/273846cfe9bcefb4ec7d6c60b399935e\n",
    "\n",
    "def rev_scrape_indeed(url):\n",
    "    \n",
    "    # Initialize dataframes\n",
    "    out_df = pd.DataFrame()\n",
    "    title_df = pd.DataFrame()\n",
    "    reviewer_df = pd.DataFrame()\n",
    "    location_df = pd.DataFrame()\n",
    "    date_df = pd.DataFrame()\n",
    "    rating_df = pd.DataFrame()\n",
    "    review_df = pd.DataFrame()\n",
    "    \n",
    "    # Specify url:\n",
    "    base_address = url\n",
    "    \n",
    "    # Look this part up on BS - understand but want more detail\n",
    "    page1 = urlopen(base_address)\n",
    "    soup1 = BeautifulSoup(page1, 'lxml')\n",
    "    \n",
    "    # Looking up total # of reviews from title html tag - \\d+ finds all digits\n",
    "    review_num = int(                      \n",
    "        (str(re.findall('\\d+', str(soup1.title).replace(\",\", ''))).replace(\"[\", '').replace(\"]\", '').replace(\"'\", '')))\n",
    "    \n",
    "    # Iterate over reviews, 20 per page\n",
    "    for i in range(0, review_num, 20): \n",
    "    #for i in range(0, 2): \n",
    "        print(i)  # Keeps track of progress\n",
    "        sleep(2)  # Don't want ip to get blocked\n",
    "        url = base_address + str(i)\n",
    "        page = urlopen(url)\n",
    "        soup = BeautifulSoup(page, 'lxml')\n",
    "    \n",
    "        # Title\n",
    "        title_info = [] \n",
    "        title = soup.find_all(class_=\"cmp-review-title\")\n",
    "        for t in title:\n",
    "            title_info.append(t.text)\n",
    "        title_df = title_df.append(title_info, ignore_index=True)\n",
    "        \n",
    "        # Reviewer\n",
    "        reviewer_info = [] \n",
    "        reviewer = soup.find_all(class_=\"cmp-reviewer-job-title\")\n",
    "        for r in reviewer:\n",
    "            reviewer_info.append(r.text)\n",
    "        reviewer_df = reviewer_df.append(reviewer_info, ignore_index=True)\n",
    "        \n",
    "        # Location\n",
    "        location_info = [] \n",
    "        location = soup.find_all(class_=\"cmp-reviewer-job-location\")\n",
    "        for l in location:\n",
    "            location_info.append(l.text)\n",
    "        location_df = location_df.append(location_info, ignore_index=True)\n",
    "        \n",
    "        # Date\n",
    "        date_info = [] \n",
    "        date = soup.find_all(class_=\"cmp-review-date-created\")\n",
    "        for d in date:\n",
    "            date_info.append(d.text)\n",
    "        date_df = date_df.append(date_info, ignore_index=True)\n",
    "        \n",
    "        # Rating\n",
    "        rating_info = [] \n",
    "        rating = soup.find_all(class_=\"cmp-ratingNumber\")\n",
    "        for r in rating:\n",
    "            rating_info.append(r.text)\n",
    "        rating_df = rating_df.append(rating_info, ignore_index=True)\n",
    "        \n",
    "        # Review\n",
    "        reviewbody = []  \n",
    "        body = soup.find_all(itemprop=\"reviewBody\")\n",
    "        for b in body:\n",
    "            reviewbody.append(b.text)  # appending each bs4 object above to empty list\n",
    "        review_df = review_df.append(reviewbody, ignore_index=True)\n",
    "        \n",
    "        \n",
    "        out_df = pd.concat([title_df, reviewer_df, location_df, date_df, rating_df, review_df], axis=1, ignore_index=True)\n",
    "        out_df.columns = ['title', 'reviewer', 'location', 'date', 'rating', 'reviews']\n",
    "    return out_df"
   ]
  },
  {
   "cell_type": "code",
   "execution_count": null,
   "metadata": {
    "scrolled": true
   },
   "outputs": [],
   "source": [
    "google_reviews = rev_scrape_indeed('https://www.indeed.com/cmp/Google/reviews?start=')"
   ]
  },
  {
   "cell_type": "code",
   "execution_count": null,
   "metadata": {},
   "outputs": [],
   "source": [
    "google_reviews.iloc[[2]]"
   ]
  },
  {
   "cell_type": "code",
   "execution_count": null,
   "metadata": {},
   "outputs": [],
   "source": [
    "tesla_reviews = rev_scrape_indeed('https://www.indeed.com/cmp/Tesla/reviews?start=')"
   ]
  },
  {
   "cell_type": "code",
   "execution_count": null,
   "metadata": {},
   "outputs": [],
   "source": [
    "tesla_reviews.iloc[[25]]"
   ]
  },
  {
   "cell_type": "code",
   "execution_count": null,
   "metadata": {},
   "outputs": [],
   "source": [
    "# Remove featured review that is reapeated on every page\n",
    "\n",
    "# Code Source: \n",
    "# https://gist.github.com/bbass444/273846cfe9bcefb4ec7d6c60b399935e\n",
    "\n",
    "google_reviews = google_reviews.drop_duplicates(keep='first') \n",
    "tesla_reviews = tesla_reviews.drop_duplicates(keep='first')"
   ]
  },
  {
   "cell_type": "code",
   "execution_count": null,
   "metadata": {},
   "outputs": [],
   "source": [
    "# Write files to excel\n",
    "\n",
    "# Code Source\n",
    "# https://stackoverflow.com/questions/13437727/writing-to-an-excel-spreadsheet\n",
    "\n",
    "google_reviews.to_excel('google_reviews.xlsx', sheet_name='sheet1', index=False)\n",
    "tesla_reviews.to_excel('tesla_reviews.xlsx', sheet_name='sheet1', index=False)"
   ]
  }
 ],
 "metadata": {
  "kernelspec": {
   "display_name": "Python 3",
   "language": "python",
   "name": "python3"
  },
  "language_info": {
   "codemirror_mode": {
    "name": "ipython",
    "version": 3
   },
   "file_extension": ".py",
   "mimetype": "text/x-python",
   "name": "python",
   "nbconvert_exporter": "python",
   "pygments_lexer": "ipython3",
   "version": "3.6.8"
  }
 },
 "nbformat": 4,
 "nbformat_minor": 2
}
